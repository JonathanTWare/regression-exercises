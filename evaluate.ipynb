{
 "cells": [
  {
   "cell_type": "code",
   "execution_count": 38,
   "id": "889e1b2c",
   "metadata": {},
   "outputs": [],
   "source": [
    "import pandas as pd\n",
    "import numpy as np\n",
    "import pydataset as data\n",
    "import seaborn as sns\n",
    "import matplotlib.pyplot as plt\n",
    "import wrangle\n",
    "from sklearn.linear_model import LinearRegression\n",
    "from sklearn.model_selection import train_test_split\n",
    "from sklearn.metrics import mean_squared_error\n",
    "from sklearn.metrics import r2_score"
   ]
  },
  {
   "cell_type": "markdown",
   "id": "85a89bcd",
   "metadata": {},
   "source": [
    "### Load your zillow dataset."
   ]
  },
  {
   "cell_type": "code",
   "execution_count": 3,
   "id": "c965845b",
   "metadata": {},
   "outputs": [],
   "source": [
    "train, validate, test = wrangle.wrangle_zillow()"
   ]
  },
  {
   "cell_type": "code",
   "execution_count": 4,
   "id": "b65dcac8",
   "metadata": {},
   "outputs": [
    {
     "data": {
      "text/html": [
       "<div>\n",
       "<style scoped>\n",
       "    .dataframe tbody tr th:only-of-type {\n",
       "        vertical-align: middle;\n",
       "    }\n",
       "\n",
       "    .dataframe tbody tr th {\n",
       "        vertical-align: top;\n",
       "    }\n",
       "\n",
       "    .dataframe thead th {\n",
       "        text-align: right;\n",
       "    }\n",
       "</style>\n",
       "<table border=\"1\" class=\"dataframe\">\n",
       "  <thead>\n",
       "    <tr style=\"text-align: right;\">\n",
       "      <th></th>\n",
       "      <th>bedroom_count</th>\n",
       "      <th>bathroom_count</th>\n",
       "      <th>calc_sqr_feet</th>\n",
       "      <th>tax_value</th>\n",
       "      <th>yearbuilt</th>\n",
       "      <th>taxamount</th>\n",
       "      <th>county_code</th>\n",
       "      <th>is_county_code_6037.0</th>\n",
       "      <th>is_county_code_6059.0</th>\n",
       "      <th>is_county_code_6111.0</th>\n",
       "    </tr>\n",
       "  </thead>\n",
       "  <tbody>\n",
       "    <tr>\n",
       "      <th>947232</th>\n",
       "      <td>5.0</td>\n",
       "      <td>3.5</td>\n",
       "      <td>3432.0</td>\n",
       "      <td>893004.0</td>\n",
       "      <td>2001.0</td>\n",
       "      <td>13320.60</td>\n",
       "      <td>6059.0</td>\n",
       "      <td>0</td>\n",
       "      <td>1</td>\n",
       "      <td>0</td>\n",
       "    </tr>\n",
       "    <tr>\n",
       "      <th>1559262</th>\n",
       "      <td>3.0</td>\n",
       "      <td>3.0</td>\n",
       "      <td>1671.0</td>\n",
       "      <td>260933.0</td>\n",
       "      <td>1947.0</td>\n",
       "      <td>3187.08</td>\n",
       "      <td>6059.0</td>\n",
       "      <td>0</td>\n",
       "      <td>1</td>\n",
       "      <td>0</td>\n",
       "    </tr>\n",
       "    <tr>\n",
       "      <th>770438</th>\n",
       "      <td>3.0</td>\n",
       "      <td>2.0</td>\n",
       "      <td>1672.0</td>\n",
       "      <td>167176.0</td>\n",
       "      <td>1959.0</td>\n",
       "      <td>2093.45</td>\n",
       "      <td>6037.0</td>\n",
       "      <td>1</td>\n",
       "      <td>0</td>\n",
       "      <td>0</td>\n",
       "    </tr>\n",
       "    <tr>\n",
       "      <th>245576</th>\n",
       "      <td>4.0</td>\n",
       "      <td>2.0</td>\n",
       "      <td>2054.0</td>\n",
       "      <td>738566.0</td>\n",
       "      <td>2002.0</td>\n",
       "      <td>8507.10</td>\n",
       "      <td>6059.0</td>\n",
       "      <td>0</td>\n",
       "      <td>1</td>\n",
       "      <td>0</td>\n",
       "    </tr>\n",
       "    <tr>\n",
       "      <th>1695674</th>\n",
       "      <td>3.0</td>\n",
       "      <td>2.0</td>\n",
       "      <td>2132.0</td>\n",
       "      <td>114067.0</td>\n",
       "      <td>1958.0</td>\n",
       "      <td>3159.90</td>\n",
       "      <td>6037.0</td>\n",
       "      <td>1</td>\n",
       "      <td>0</td>\n",
       "      <td>0</td>\n",
       "    </tr>\n",
       "    <tr>\n",
       "      <th>...</th>\n",
       "      <td>...</td>\n",
       "      <td>...</td>\n",
       "      <td>...</td>\n",
       "      <td>...</td>\n",
       "      <td>...</td>\n",
       "      <td>...</td>\n",
       "      <td>...</td>\n",
       "      <td>...</td>\n",
       "      <td>...</td>\n",
       "      <td>...</td>\n",
       "    </tr>\n",
       "    <tr>\n",
       "      <th>1035662</th>\n",
       "      <td>5.0</td>\n",
       "      <td>3.0</td>\n",
       "      <td>2308.0</td>\n",
       "      <td>656000.0</td>\n",
       "      <td>1959.0</td>\n",
       "      <td>8042.45</td>\n",
       "      <td>6037.0</td>\n",
       "      <td>1</td>\n",
       "      <td>0</td>\n",
       "      <td>0</td>\n",
       "    </tr>\n",
       "    <tr>\n",
       "      <th>463244</th>\n",
       "      <td>3.0</td>\n",
       "      <td>2.0</td>\n",
       "      <td>1700.0</td>\n",
       "      <td>209048.0</td>\n",
       "      <td>1956.0</td>\n",
       "      <td>2411.70</td>\n",
       "      <td>6111.0</td>\n",
       "      <td>0</td>\n",
       "      <td>0</td>\n",
       "      <td>1</td>\n",
       "    </tr>\n",
       "    <tr>\n",
       "      <th>1766269</th>\n",
       "      <td>4.0</td>\n",
       "      <td>2.5</td>\n",
       "      <td>2282.0</td>\n",
       "      <td>527044.0</td>\n",
       "      <td>1979.0</td>\n",
       "      <td>6149.84</td>\n",
       "      <td>6111.0</td>\n",
       "      <td>0</td>\n",
       "      <td>0</td>\n",
       "      <td>1</td>\n",
       "    </tr>\n",
       "    <tr>\n",
       "      <th>324934</th>\n",
       "      <td>3.0</td>\n",
       "      <td>2.0</td>\n",
       "      <td>1711.0</td>\n",
       "      <td>485663.0</td>\n",
       "      <td>1962.0</td>\n",
       "      <td>6029.84</td>\n",
       "      <td>6037.0</td>\n",
       "      <td>1</td>\n",
       "      <td>0</td>\n",
       "      <td>0</td>\n",
       "    </tr>\n",
       "    <tr>\n",
       "      <th>1896373</th>\n",
       "      <td>4.0</td>\n",
       "      <td>3.0</td>\n",
       "      <td>2262.0</td>\n",
       "      <td>459230.0</td>\n",
       "      <td>1963.0</td>\n",
       "      <td>5811.84</td>\n",
       "      <td>6037.0</td>\n",
       "      <td>1</td>\n",
       "      <td>0</td>\n",
       "      <td>0</td>\n",
       "    </tr>\n",
       "  </tbody>\n",
       "</table>\n",
       "<p>832786 rows × 10 columns</p>\n",
       "</div>"
      ],
      "text/plain": [
       "         bedroom_count  bathroom_count  calc_sqr_feet  tax_value  yearbuilt  \\\n",
       "947232             5.0             3.5         3432.0   893004.0     2001.0   \n",
       "1559262            3.0             3.0         1671.0   260933.0     1947.0   \n",
       "770438             3.0             2.0         1672.0   167176.0     1959.0   \n",
       "245576             4.0             2.0         2054.0   738566.0     2002.0   \n",
       "1695674            3.0             2.0         2132.0   114067.0     1958.0   \n",
       "...                ...             ...            ...        ...        ...   \n",
       "1035662            5.0             3.0         2308.0   656000.0     1959.0   \n",
       "463244             3.0             2.0         1700.0   209048.0     1956.0   \n",
       "1766269            4.0             2.5         2282.0   527044.0     1979.0   \n",
       "324934             3.0             2.0         1711.0   485663.0     1962.0   \n",
       "1896373            4.0             3.0         2262.0   459230.0     1963.0   \n",
       "\n",
       "         taxamount  county_code  is_county_code_6037.0  is_county_code_6059.0  \\\n",
       "947232    13320.60       6059.0                      0                      1   \n",
       "1559262    3187.08       6059.0                      0                      1   \n",
       "770438     2093.45       6037.0                      1                      0   \n",
       "245576     8507.10       6059.0                      0                      1   \n",
       "1695674    3159.90       6037.0                      1                      0   \n",
       "...            ...          ...                    ...                    ...   \n",
       "1035662    8042.45       6037.0                      1                      0   \n",
       "463244     2411.70       6111.0                      0                      0   \n",
       "1766269    6149.84       6111.0                      0                      0   \n",
       "324934     6029.84       6037.0                      1                      0   \n",
       "1896373    5811.84       6037.0                      1                      0   \n",
       "\n",
       "         is_county_code_6111.0  \n",
       "947232                       0  \n",
       "1559262                      0  \n",
       "770438                       0  \n",
       "245576                       0  \n",
       "1695674                      0  \n",
       "...                        ...  \n",
       "1035662                      0  \n",
       "463244                       1  \n",
       "1766269                      1  \n",
       "324934                       0  \n",
       "1896373                      0  \n",
       "\n",
       "[832786 rows x 10 columns]"
      ]
     },
     "execution_count": 4,
     "metadata": {},
     "output_type": "execute_result"
    }
   ],
   "source": [
    "train"
   ]
  },
  {
   "cell_type": "code",
   "execution_count": 6,
   "id": "ee77f155",
   "metadata": {},
   "outputs": [],
   "source": [
    "df = train"
   ]
  },
  {
   "cell_type": "markdown",
   "id": "44979cec",
   "metadata": {},
   "source": [
    "### Fit a linear regression model (ordinary least squares) and compute yhat, predictions of taxvaluedollarcnt using only calculatedfinishedsqft."
   ]
  },
  {
   "cell_type": "markdown",
   "id": "c6847bc7",
   "metadata": {},
   "source": [
    "### Here is some sample code to get you started:"
   ]
  },
  {
   "cell_type": "markdown",
   "id": "1b6642a9",
   "metadata": {},
   "source": [
    "```python\n",
    "from sklearn.linear_model import LinearRegression\n",
    "\n",
    "# assuming X and y are already defined\"\n",
    "model = LinearRegression().fit(X, y)\n",
    "predictions = model.predict(X)\n",
    "\n",
    "```\n"
   ]
  },
  {
   "cell_type": "code",
   "execution_count": 7,
   "id": "c4f1edd1",
   "metadata": {},
   "outputs": [],
   "source": [
    "X = df['calc_sqr_feet'].values.reshape(-1, 1)\n",
    "y = df['tax_value'].values"
   ]
  },
  {
   "cell_type": "code",
   "execution_count": 9,
   "id": "91a0f3fa",
   "metadata": {},
   "outputs": [
    {
     "data": {
      "text/html": [
       "<style>#sk-container-id-1 {color: black;background-color: white;}#sk-container-id-1 pre{padding: 0;}#sk-container-id-1 div.sk-toggleable {background-color: white;}#sk-container-id-1 label.sk-toggleable__label {cursor: pointer;display: block;width: 100%;margin-bottom: 0;padding: 0.3em;box-sizing: border-box;text-align: center;}#sk-container-id-1 label.sk-toggleable__label-arrow:before {content: \"▸\";float: left;margin-right: 0.25em;color: #696969;}#sk-container-id-1 label.sk-toggleable__label-arrow:hover:before {color: black;}#sk-container-id-1 div.sk-estimator:hover label.sk-toggleable__label-arrow:before {color: black;}#sk-container-id-1 div.sk-toggleable__content {max-height: 0;max-width: 0;overflow: hidden;text-align: left;background-color: #f0f8ff;}#sk-container-id-1 div.sk-toggleable__content pre {margin: 0.2em;color: black;border-radius: 0.25em;background-color: #f0f8ff;}#sk-container-id-1 input.sk-toggleable__control:checked~div.sk-toggleable__content {max-height: 200px;max-width: 100%;overflow: auto;}#sk-container-id-1 input.sk-toggleable__control:checked~label.sk-toggleable__label-arrow:before {content: \"▾\";}#sk-container-id-1 div.sk-estimator input.sk-toggleable__control:checked~label.sk-toggleable__label {background-color: #d4ebff;}#sk-container-id-1 div.sk-label input.sk-toggleable__control:checked~label.sk-toggleable__label {background-color: #d4ebff;}#sk-container-id-1 input.sk-hidden--visually {border: 0;clip: rect(1px 1px 1px 1px);clip: rect(1px, 1px, 1px, 1px);height: 1px;margin: -1px;overflow: hidden;padding: 0;position: absolute;width: 1px;}#sk-container-id-1 div.sk-estimator {font-family: monospace;background-color: #f0f8ff;border: 1px dotted black;border-radius: 0.25em;box-sizing: border-box;margin-bottom: 0.5em;}#sk-container-id-1 div.sk-estimator:hover {background-color: #d4ebff;}#sk-container-id-1 div.sk-parallel-item::after {content: \"\";width: 100%;border-bottom: 1px solid gray;flex-grow: 1;}#sk-container-id-1 div.sk-label:hover label.sk-toggleable__label {background-color: #d4ebff;}#sk-container-id-1 div.sk-serial::before {content: \"\";position: absolute;border-left: 1px solid gray;box-sizing: border-box;top: 0;bottom: 0;left: 50%;z-index: 0;}#sk-container-id-1 div.sk-serial {display: flex;flex-direction: column;align-items: center;background-color: white;padding-right: 0.2em;padding-left: 0.2em;position: relative;}#sk-container-id-1 div.sk-item {position: relative;z-index: 1;}#sk-container-id-1 div.sk-parallel {display: flex;align-items: stretch;justify-content: center;background-color: white;position: relative;}#sk-container-id-1 div.sk-item::before, #sk-container-id-1 div.sk-parallel-item::before {content: \"\";position: absolute;border-left: 1px solid gray;box-sizing: border-box;top: 0;bottom: 0;left: 50%;z-index: -1;}#sk-container-id-1 div.sk-parallel-item {display: flex;flex-direction: column;z-index: 1;position: relative;background-color: white;}#sk-container-id-1 div.sk-parallel-item:first-child::after {align-self: flex-end;width: 50%;}#sk-container-id-1 div.sk-parallel-item:last-child::after {align-self: flex-start;width: 50%;}#sk-container-id-1 div.sk-parallel-item:only-child::after {width: 0;}#sk-container-id-1 div.sk-dashed-wrapped {border: 1px dashed gray;margin: 0 0.4em 0.5em 0.4em;box-sizing: border-box;padding-bottom: 0.4em;background-color: white;}#sk-container-id-1 div.sk-label label {font-family: monospace;font-weight: bold;display: inline-block;line-height: 1.2em;}#sk-container-id-1 div.sk-label-container {text-align: center;}#sk-container-id-1 div.sk-container {/* jupyter's `normalize.less` sets `[hidden] { display: none; }` but bootstrap.min.css set `[hidden] { display: none !important; }` so we also need the `!important` here to be able to override the default hidden behavior on the sphinx rendered scikit-learn.org. See: https://github.com/scikit-learn/scikit-learn/issues/21755 */display: inline-block !important;position: relative;}#sk-container-id-1 div.sk-text-repr-fallback {display: none;}</style><div id=\"sk-container-id-1\" class=\"sk-top-container\"><div class=\"sk-text-repr-fallback\"><pre>LinearRegression()</pre><b>In a Jupyter environment, please rerun this cell to show the HTML representation or trust the notebook. <br />On GitHub, the HTML representation is unable to render, please try loading this page with nbviewer.org.</b></div><div class=\"sk-container\" hidden><div class=\"sk-item\"><div class=\"sk-estimator sk-toggleable\"><input class=\"sk-toggleable__control sk-hidden--visually\" id=\"sk-estimator-id-1\" type=\"checkbox\" checked><label for=\"sk-estimator-id-1\" class=\"sk-toggleable__label sk-toggleable__label-arrow\">LinearRegression</label><div class=\"sk-toggleable__content\"><pre>LinearRegression()</pre></div></div></div></div></div>"
      ],
      "text/plain": [
       "LinearRegression()"
      ]
     },
     "execution_count": 9,
     "metadata": {},
     "output_type": "execute_result"
    }
   ],
   "source": [
    "model = LinearRegression()\n",
    "\n",
    "\n",
    "model.fit(X, y)\n"
   ]
  },
  {
   "cell_type": "code",
   "execution_count": 11,
   "id": "609f14bf",
   "metadata": {},
   "outputs": [],
   "source": [
    "y_pred = model.predict(X)"
   ]
  },
  {
   "cell_type": "code",
   "execution_count": 12,
   "id": "cdab0502",
   "metadata": {},
   "outputs": [
    {
     "data": {
      "text/plain": [
       "array([884870.71321503, 356362.76540977, 356662.88349484, ...,\n",
       "       539734.9153865 , 368367.4888125 , 533732.55368513])"
      ]
     },
     "execution_count": 12,
     "metadata": {},
     "output_type": "execute_result"
    }
   ],
   "source": [
    "y_pred"
   ]
  },
  {
   "cell_type": "markdown",
   "id": "904dea65",
   "metadata": {},
   "source": [
    "### Modify and add to the code above as necessary for it to work with the zillow dataset."
   ]
  },
  {
   "cell_type": "code",
   "execution_count": 14,
   "id": "3d2fd90f",
   "metadata": {},
   "outputs": [],
   "source": [
    "X_train, X_test, y_train, y_test = train_test_split(X, y, test_size=0.2, random_state=123)\n"
   ]
  },
  {
   "cell_type": "code",
   "execution_count": 15,
   "id": "33630eac",
   "metadata": {},
   "outputs": [
    {
     "data": {
      "text/html": [
       "<style>#sk-container-id-2 {color: black;background-color: white;}#sk-container-id-2 pre{padding: 0;}#sk-container-id-2 div.sk-toggleable {background-color: white;}#sk-container-id-2 label.sk-toggleable__label {cursor: pointer;display: block;width: 100%;margin-bottom: 0;padding: 0.3em;box-sizing: border-box;text-align: center;}#sk-container-id-2 label.sk-toggleable__label-arrow:before {content: \"▸\";float: left;margin-right: 0.25em;color: #696969;}#sk-container-id-2 label.sk-toggleable__label-arrow:hover:before {color: black;}#sk-container-id-2 div.sk-estimator:hover label.sk-toggleable__label-arrow:before {color: black;}#sk-container-id-2 div.sk-toggleable__content {max-height: 0;max-width: 0;overflow: hidden;text-align: left;background-color: #f0f8ff;}#sk-container-id-2 div.sk-toggleable__content pre {margin: 0.2em;color: black;border-radius: 0.25em;background-color: #f0f8ff;}#sk-container-id-2 input.sk-toggleable__control:checked~div.sk-toggleable__content {max-height: 200px;max-width: 100%;overflow: auto;}#sk-container-id-2 input.sk-toggleable__control:checked~label.sk-toggleable__label-arrow:before {content: \"▾\";}#sk-container-id-2 div.sk-estimator input.sk-toggleable__control:checked~label.sk-toggleable__label {background-color: #d4ebff;}#sk-container-id-2 div.sk-label input.sk-toggleable__control:checked~label.sk-toggleable__label {background-color: #d4ebff;}#sk-container-id-2 input.sk-hidden--visually {border: 0;clip: rect(1px 1px 1px 1px);clip: rect(1px, 1px, 1px, 1px);height: 1px;margin: -1px;overflow: hidden;padding: 0;position: absolute;width: 1px;}#sk-container-id-2 div.sk-estimator {font-family: monospace;background-color: #f0f8ff;border: 1px dotted black;border-radius: 0.25em;box-sizing: border-box;margin-bottom: 0.5em;}#sk-container-id-2 div.sk-estimator:hover {background-color: #d4ebff;}#sk-container-id-2 div.sk-parallel-item::after {content: \"\";width: 100%;border-bottom: 1px solid gray;flex-grow: 1;}#sk-container-id-2 div.sk-label:hover label.sk-toggleable__label {background-color: #d4ebff;}#sk-container-id-2 div.sk-serial::before {content: \"\";position: absolute;border-left: 1px solid gray;box-sizing: border-box;top: 0;bottom: 0;left: 50%;z-index: 0;}#sk-container-id-2 div.sk-serial {display: flex;flex-direction: column;align-items: center;background-color: white;padding-right: 0.2em;padding-left: 0.2em;position: relative;}#sk-container-id-2 div.sk-item {position: relative;z-index: 1;}#sk-container-id-2 div.sk-parallel {display: flex;align-items: stretch;justify-content: center;background-color: white;position: relative;}#sk-container-id-2 div.sk-item::before, #sk-container-id-2 div.sk-parallel-item::before {content: \"\";position: absolute;border-left: 1px solid gray;box-sizing: border-box;top: 0;bottom: 0;left: 50%;z-index: -1;}#sk-container-id-2 div.sk-parallel-item {display: flex;flex-direction: column;z-index: 1;position: relative;background-color: white;}#sk-container-id-2 div.sk-parallel-item:first-child::after {align-self: flex-end;width: 50%;}#sk-container-id-2 div.sk-parallel-item:last-child::after {align-self: flex-start;width: 50%;}#sk-container-id-2 div.sk-parallel-item:only-child::after {width: 0;}#sk-container-id-2 div.sk-dashed-wrapped {border: 1px dashed gray;margin: 0 0.4em 0.5em 0.4em;box-sizing: border-box;padding-bottom: 0.4em;background-color: white;}#sk-container-id-2 div.sk-label label {font-family: monospace;font-weight: bold;display: inline-block;line-height: 1.2em;}#sk-container-id-2 div.sk-label-container {text-align: center;}#sk-container-id-2 div.sk-container {/* jupyter's `normalize.less` sets `[hidden] { display: none; }` but bootstrap.min.css set `[hidden] { display: none !important; }` so we also need the `!important` here to be able to override the default hidden behavior on the sphinx rendered scikit-learn.org. See: https://github.com/scikit-learn/scikit-learn/issues/21755 */display: inline-block !important;position: relative;}#sk-container-id-2 div.sk-text-repr-fallback {display: none;}</style><div id=\"sk-container-id-2\" class=\"sk-top-container\"><div class=\"sk-text-repr-fallback\"><pre>LinearRegression()</pre><b>In a Jupyter environment, please rerun this cell to show the HTML representation or trust the notebook. <br />On GitHub, the HTML representation is unable to render, please try loading this page with nbviewer.org.</b></div><div class=\"sk-container\" hidden><div class=\"sk-item\"><div class=\"sk-estimator sk-toggleable\"><input class=\"sk-toggleable__control sk-hidden--visually\" id=\"sk-estimator-id-2\" type=\"checkbox\" checked><label for=\"sk-estimator-id-2\" class=\"sk-toggleable__label sk-toggleable__label-arrow\">LinearRegression</label><div class=\"sk-toggleable__content\"><pre>LinearRegression()</pre></div></div></div></div></div>"
      ],
      "text/plain": [
       "LinearRegression()"
      ]
     },
     "execution_count": 15,
     "metadata": {},
     "output_type": "execute_result"
    }
   ],
   "source": [
    "# Create an instance of the LinearRegression model\n",
    "model = LinearRegression()\n",
    "\n",
    "# Fit the model to the training data\n",
    "model.fit(X_train, y_train)\n"
   ]
  },
  {
   "cell_type": "code",
   "execution_count": 17,
   "id": "c88383b4",
   "metadata": {},
   "outputs": [],
   "source": [
    "y_train_pred = model.predict(X_train)\n",
    "\n"
   ]
  },
  {
   "cell_type": "markdown",
   "id": "2324fef5",
   "metadata": {},
   "source": [
    "### Plot the residuals for the linear regression model that you made."
   ]
  },
  {
   "cell_type": "code",
   "execution_count": 26,
   "id": "78c0ac45",
   "metadata": {},
   "outputs": [
    {
     "data": {
      "image/png": "[encoded data removed]",
      "text/plain": [
       "<Figure size 640x480 with 1 Axes>"
      ]
     },
     "metadata": {},
     "output_type": "display_data"
    }
   ],
   "source": [
    "model.fit(X, y)\n",
    "\n",
    "y_pred = model.predict(X)\n",
    "\n",
    "residuals = y - y_pred\n",
    "\n",
    "plt.scatter(y_pred, residuals)\n",
    "plt.axhline(y=0, color='r', linestyle='--')\n",
    "plt.xlabel('Predicted Values')\n",
    "plt.ylabel('Residuals')\n",
    "plt.title('Residual Plot')\n",
    "plt.show()\n"
   ]
  },
  {
   "cell_type": "markdown",
   "id": "4afcc71c",
   "metadata": {},
   "source": [
    "### Calculate the sum of squared errors, explained sum of squares, total sum of squares, mean squared error, and root mean squared error for your model."
   ]
  },
  {
   "cell_type": "code",
   "execution_count": 34,
   "id": "eddc8fae",
   "metadata": {},
   "outputs": [
    {
     "name": "stdout",
     "output_type": "stream",
     "text": [
      "Sum of Squared Errors (SSE): 9.868462082761645e+16\n",
      "Explained Sum of Squares (ESS): 3.3813232318681924e+16\n",
      "Total Sum of Squares (TSS): 1.3249785314632296e+17\n",
      "Mean Squared Error (MSE): 118499375382.89122\n",
      "Root Mean Squared Error (RMSE): 344237.3823147208\n"
     ]
    }
   ],
   "source": [
    "sse = np.sum((y - y_pred) ** 2)\n",
    "\n",
    "ess = np.sum((y_pred - np.mean(y)) ** 2)\n",
    "\n",
    "tss = np.sum((y - np.mean(y)) ** 2)\n",
    "\n",
    "mse = mean_squared_error(y, y_pred)\n",
    "\n",
    "rmse = np.sqrt(mse)\n",
    "\n",
    "print('Sum of Squared Errors (SSE):', sse)\n",
    "print('Explained Sum of Squares (ESS):', ess)\n",
    "print('Total Sum of Squares (TSS):', tss)\n",
    "print('Mean Squared Error (MSE):', mse)\n",
    "print('Root Mean Squared Error (RMSE):', rmse)"
   ]
  },
  {
   "cell_type": "markdown",
   "id": "6c1ee951",
   "metadata": {},
   "source": [
    "### Calculate the sum of squared errors, mean squared error, and root mean squared error for the baseline model (i.e. a model that always predicts the average taxvaluedollarcnt amount)."
   ]
  },
  {
   "cell_type": "code",
   "execution_count": 35,
   "id": "6e49f7bc",
   "metadata": {},
   "outputs": [
    {
     "name": "stdout",
     "output_type": "stream",
     "text": [
      "Baseline Model:\n",
      "Sum of Squared Errors (SSE): 1.3249785314632296e+17\n",
      "Mean Squared Error (MSE): 159101921917.90323\n",
      "Root Mean Squared Error (RMSE): 398875.8226790679\n"
     ]
    }
   ],
   "source": [
    "y_mean = np.mean(y)\n",
    "\n",
    "y_pred_baseline = np.full_like(y, y_mean)\n",
    "\n",
    "sse_baseline = np.sum((y - y_pred_baseline) ** 2)\n",
    "\n",
    "mse_baseline = mean_squared_error(y, y_pred_baseline)\n",
    "\n",
    "rmse_baseline = np.sqrt(mse_baseline)\n",
    "\n",
    "print('Baseline Model:')\n",
    "print('Sum of Squared Errors (SSE):', sse_baseline)\n",
    "print('Mean Squared Error (MSE):', mse_baseline)\n",
    "print('Root Mean Squared Error (RMSE):', rmse_baseline)"
   ]
  },
  {
   "cell_type": "markdown",
   "id": "17004aa6",
   "metadata": {},
   "source": [
    "### Write python code that compares the sum of squared errors for your model against the sum of squared errors for the baseline model and outputs whether or not your model performs better than the baseline model."
   ]
  },
  {
   "cell_type": "code",
   "execution_count": 37,
   "id": "5135de2b",
   "metadata": {},
   "outputs": [
    {
     "name": "stdout",
     "output_type": "stream",
     "text": [
      "Your model performs better than the baseline model.\n"
     ]
    }
   ],
   "source": [
    "sse_model = np.sum((y - y_pred) ** 2)\n",
    "\n",
    "y_mean = np.mean(y)\n",
    "\n",
    "y_pred_baseline = np.full_like(y, y_mean)\n",
    "\n",
    "sse_baseline = np.sum((y - y_pred_baseline) ** 2)\n",
    "\n",
    "if sse_model < sse_baseline:\n",
    "    print(\"Your model performs better than the baseline model.\")\n",
    "else:\n",
    "    print(\"Your model does not perform better than the baseline model.\")"
   ]
  },
  {
   "cell_type": "markdown",
   "id": "9924b3f9",
   "metadata": {},
   "source": [
    "### What is the amount of variance explained in your model?"
   ]
  },
  {
   "cell_type": "code",
   "execution_count": 40,
   "id": "82f1151a",
   "metadata": {},
   "outputs": [
    {
     "name": "stdout",
     "output_type": "stream",
     "text": [
      "Amount of Variance Explained (R-squared): 0.25519834107323336\n"
     ]
    }
   ],
   "source": [
    "sse = np.sum((y - y_pred) ** 2)\n",
    "\n",
    "tss = np.sum((y - np.mean(y)) ** 2)\n",
    "\n",
    "r_squared = 1 - (sse / tss)\n",
    "\n",
    "print('Amount of Variance Explained (R-squared):', r_squared)"
   ]
  },
  {
   "cell_type": "markdown",
   "id": "71a4fb87",
   "metadata": {},
   "source": [
    "### Is your model better than the baseline model?"
   ]
  },
  {
   "cell_type": "code",
   "execution_count": 43,
   "id": "66c400bc",
   "metadata": {},
   "outputs": [
    {
     "name": "stdout",
     "output_type": "stream",
     "text": [
      "model is better than the baseline model.\n"
     ]
    }
   ],
   "source": [
    "r_squared_model = r2_score(y, y_pred)\n",
    "\n",
    "y_mean = np.mean(y)\n",
    "\n",
    "y_pred_baseline = np.full_like(y, y_mean)\n",
    "\n",
    "r_squared_baseline = r2_score(y, y_pred_baseline)\n",
    "\n",
    "if r_squared_model > r_squared_baseline:\n",
    "    print(\"model is better than the baseline model.\")\n",
    "elif r_squared_model < r_squared_baseline:\n",
    "    print(\"model is worse than the baseline model.\")\n",
    "else:\n",
    "    print(\"model performs similarly to the baseline model.\")"
   ]
  },
  {
   "cell_type": "markdown",
   "id": "ae7b040b",
   "metadata": {},
   "source": [
    "### Create a file named evaluate.py that contains the following functions.\n",
    "\n",
    "- plot_residuals(y, yhat): creates a residual plot\n",
    "- regression_errors(y, yhat): returns the following values:\n",
    "- sum of squared errors (SSE)\n",
    "- explained sum of squares (ESS)\n",
    "- total sum of squares (TSS)\n",
    "- mean squared error (MSE)\n",
    "- root mean squared error (RMSE)\n",
    "- baseline_mean_errors(y): computes the SSE, MSE, and RMSE for the baseline model\n",
    "- better_than_baseline(y, yhat): returns true if your model performs better than the baseline, otherwise false"
   ]
  },
  {
   "cell_type": "code",
   "execution_count": 44,
   "id": "9f196650",
   "metadata": {},
   "outputs": [],
   "source": [
    "def plot_residuals(y, yhat):\n",
    "    \n",
    "    residuals = y - yhat\n",
    "    plt.scatter(yhat, residuals)\n",
    "    plt.axhline(y=0, color='r', linestyle='--')\n",
    "    plt.xlabel('Predicted Values')\n",
    "    plt.ylabel('Residuals')\n",
    "    plt.title('Residual Plot')\n",
    "    plt.show()"
   ]
  },
  {
   "cell_type": "code",
   "execution_count": 45,
   "id": "34985488",
   "metadata": {},
   "outputs": [],
   "source": [
    "def regression_errors(y, yhat):\n",
    "   \n",
    "    sse = np.sum((y - yhat) ** 2)\n",
    "    ess = np.sum((yhat - np.mean(y)) ** 2)\n",
    "    tss = np.sum((y - np.mean(y)) ** 2)\n",
    "    mse = mean_squared_error(y, yhat)\n",
    "    rmse = np.sqrt(mse)\n",
    "\n",
    "    return {'SSE': sse, 'ESS': ess, 'TSS': tss, 'MSE': mse, 'RMSE': rmse}"
   ]
  },
  {
   "cell_type": "code",
   "execution_count": 46,
   "id": "6c1a2047",
   "metadata": {},
   "outputs": [],
   "source": [
    "def baseline_mean_errors(y):\n",
    "    \n",
    "    y_mean = np.mean(y)\n",
    "    yhat_baseline = np.full_like(y, y_mean)\n",
    "    sse = np.sum((y - yhat_baseline) ** 2)\n",
    "    mse = mean_squared_error(y, yhat_baseline)\n",
    "    rmse = np.sqrt(mse)\n",
    "\n",
    "    return {'SSE': sse, 'MSE': mse, 'RMSE': rmse}"
   ]
  },
  {
   "cell_type": "code",
   "execution_count": 47,
   "id": "976d2305",
   "metadata": {},
   "outputs": [],
   "source": [
    "def better_than_baseline(y, yhat):\n",
    "    \n",
    "    sse_model = np.sum((y - yhat) ** 2)\n",
    "    sse_baseline = baseline_mean_errors(y)['SSE']\n",
    "\n",
    "    return sse_model < sse_baseline"
   ]
  }
 ],
 "metadata": {
  "kernelspec": {
   "display_name": "Python 3 (ipykernel)",
   "language": "python",
   "name": "python3"
  },
  "language_info": {
   "codemirror_mode": {
    "name": "ipython",
    "version": 3
   },
   "file_extension": ".py",
   "mimetype": "text/x-python",
   "name": "python",
   "nbconvert_exporter": "python",
   "pygments_lexer": "ipython3",
   "version": "3.10.9"
  }
 },
 "nbformat": 4,
 "nbformat_minor": 5
}
