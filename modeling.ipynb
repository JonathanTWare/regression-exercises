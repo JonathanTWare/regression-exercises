{
 "cells": [
  {
   "cell_type": "code",
   "execution_count": 1,
   "id": "6e0d0063",
   "metadata": {},
   "outputs": [],
   "source": [
    "import wrangle\n",
    "import pandas as pd\n",
    "import numpy as np\n",
    "import wrangle\n",
    "import matplotlib.pyplot as plt\n",
    "\n",
    "# modeling methods\n",
    "from sklearn.metrics import mean_squared_error\n",
    "from sklearn.linear_model import LinearRegression, LassoLars, TweedieRegressor\n",
    "from sklearn.preprocessing import PolynomialFeatures\n",
    "from sklearn.metrics import explained_variance_score\n",
    "import warnings\n",
    "warnings.filterwarnings('ignore')\n",
    "\n"
   ]
  },
  {
   "cell_type": "markdown",
   "id": "f61828f9",
   "metadata": {},
   "source": [
    "### Select a dataset with a continuous target variable."
   ]
  },
  {
   "cell_type": "code",
   "execution_count": 2,
   "id": "932451e5",
   "metadata": {},
   "outputs": [],
   "source": [
    "train, validate, test = wrangle.wrangle_zillow()"
   ]
  },
  {
   "cell_type": "code",
   "execution_count": 3,
   "id": "c1401466",
   "metadata": {},
   "outputs": [],
   "source": [
    "train_scaled, validate_scaled, test_scaled = wrangle.scale_data(train, validate, test)"
   ]
  },
  {
   "cell_type": "code",
   "execution_count": 4,
   "id": "57ec7e30",
   "metadata": {
    "scrolled": true
   },
   "outputs": [
    {
     "data": {
      "text/html": [
       "<div>\n",
       "<style scoped>\n",
       "    .dataframe tbody tr th:only-of-type {\n",
       "        vertical-align: middle;\n",
       "    }\n",
       "\n",
       "    .dataframe tbody tr th {\n",
       "        vertical-align: top;\n",
       "    }\n",
       "\n",
       "    .dataframe thead th {\n",
       "        text-align: right;\n",
       "    }\n",
       "</style>\n",
       "<table border=\"1\" class=\"dataframe\">\n",
       "  <thead>\n",
       "    <tr style=\"text-align: right;\">\n",
       "      <th></th>\n",
       "      <th>bedroom_count</th>\n",
       "      <th>bathroom_count</th>\n",
       "      <th>calc_sqr_feet</th>\n",
       "      <th>tax_value</th>\n",
       "      <th>yearbuilt</th>\n",
       "      <th>taxamount</th>\n",
       "      <th>county_code</th>\n",
       "      <th>is_county_code_6037.0</th>\n",
       "      <th>is_county_code_6059.0</th>\n",
       "      <th>is_county_code_6111.0</th>\n",
       "    </tr>\n",
       "  </thead>\n",
       "  <tbody>\n",
       "    <tr>\n",
       "      <th>947232</th>\n",
       "      <td>1.0</td>\n",
       "      <td>0.75</td>\n",
       "      <td>0.388317</td>\n",
       "      <td>893004.0</td>\n",
       "      <td>0.870690</td>\n",
       "      <td>0.110976</td>\n",
       "      <td>6059.0</td>\n",
       "      <td>0</td>\n",
       "      <td>1</td>\n",
       "      <td>0</td>\n",
       "    </tr>\n",
       "    <tr>\n",
       "      <th>1559262</th>\n",
       "      <td>0.0</td>\n",
       "      <td>0.50</td>\n",
       "      <td>0.188951</td>\n",
       "      <td>260933.0</td>\n",
       "      <td>0.405172</td>\n",
       "      <td>0.026447</td>\n",
       "      <td>6059.0</td>\n",
       "      <td>0</td>\n",
       "      <td>1</td>\n",
       "      <td>0</td>\n",
       "    </tr>\n",
       "    <tr>\n",
       "      <th>770438</th>\n",
       "      <td>0.0</td>\n",
       "      <td>0.00</td>\n",
       "      <td>0.189064</td>\n",
       "      <td>167176.0</td>\n",
       "      <td>0.508621</td>\n",
       "      <td>0.017325</td>\n",
       "      <td>6037.0</td>\n",
       "      <td>1</td>\n",
       "      <td>0</td>\n",
       "      <td>0</td>\n",
       "    </tr>\n",
       "    <tr>\n",
       "      <th>245576</th>\n",
       "      <td>0.5</td>\n",
       "      <td>0.00</td>\n",
       "      <td>0.232311</td>\n",
       "      <td>738566.0</td>\n",
       "      <td>0.879310</td>\n",
       "      <td>0.070824</td>\n",
       "      <td>6059.0</td>\n",
       "      <td>0</td>\n",
       "      <td>1</td>\n",
       "      <td>0</td>\n",
       "    </tr>\n",
       "    <tr>\n",
       "      <th>1695674</th>\n",
       "      <td>0.0</td>\n",
       "      <td>0.00</td>\n",
       "      <td>0.241141</td>\n",
       "      <td>114067.0</td>\n",
       "      <td>0.500000</td>\n",
       "      <td>0.026221</td>\n",
       "      <td>6037.0</td>\n",
       "      <td>1</td>\n",
       "      <td>0</td>\n",
       "      <td>0</td>\n",
       "    </tr>\n",
       "  </tbody>\n",
       "</table>\n",
       "</div>"
      ],
      "text/plain": [
       "         bedroom_count  bathroom_count  calc_sqr_feet  tax_value  yearbuilt  \\\n",
       "947232             1.0            0.75       0.388317   893004.0   0.870690   \n",
       "1559262            0.0            0.50       0.188951   260933.0   0.405172   \n",
       "770438             0.0            0.00       0.189064   167176.0   0.508621   \n",
       "245576             0.5            0.00       0.232311   738566.0   0.879310   \n",
       "1695674            0.0            0.00       0.241141   114067.0   0.500000   \n",
       "\n",
       "         taxamount  county_code  is_county_code_6037.0  is_county_code_6059.0  \\\n",
       "947232    0.110976       6059.0                      0                      1   \n",
       "1559262   0.026447       6059.0                      0                      1   \n",
       "770438    0.017325       6037.0                      1                      0   \n",
       "245576    0.070824       6059.0                      0                      1   \n",
       "1695674   0.026221       6037.0                      1                      0   \n",
       "\n",
       "         is_county_code_6111.0  \n",
       "947232                       0  \n",
       "1559262                      0  \n",
       "770438                       0  \n",
       "245576                       0  \n",
       "1695674                      0  "
      ]
     },
     "execution_count": 4,
     "metadata": {},
     "output_type": "execute_result"
    }
   ],
   "source": [
    "train_scaled.head()"
   ]
  },
  {
   "cell_type": "code",
   "execution_count": null,
   "id": "9f0626aa",
   "metadata": {},
   "outputs": [],
   "source": []
  },
  {
   "cell_type": "code",
   "execution_count": 5,
   "id": "d4102834",
   "metadata": {},
   "outputs": [
    {
     "data": {
      "text/html": [
       "<div>\n",
       "<style scoped>\n",
       "    .dataframe tbody tr th:only-of-type {\n",
       "        vertical-align: middle;\n",
       "    }\n",
       "\n",
       "    .dataframe tbody tr th {\n",
       "        vertical-align: top;\n",
       "    }\n",
       "\n",
       "    .dataframe thead th {\n",
       "        text-align: right;\n",
       "    }\n",
       "</style>\n",
       "<table border=\"1\" class=\"dataframe\">\n",
       "  <thead>\n",
       "    <tr style=\"text-align: right;\">\n",
       "      <th></th>\n",
       "      <th>bedroom_count</th>\n",
       "      <th>bathroom_count</th>\n",
       "      <th>calc_sqr_feet</th>\n",
       "      <th>tax_value</th>\n",
       "      <th>yearbuilt</th>\n",
       "      <th>taxamount</th>\n",
       "      <th>county_code</th>\n",
       "      <th>is_county_code_6037.0</th>\n",
       "      <th>is_county_code_6059.0</th>\n",
       "      <th>is_county_code_6111.0</th>\n",
       "    </tr>\n",
       "  </thead>\n",
       "  <tbody>\n",
       "    <tr>\n",
       "      <th>947232</th>\n",
       "      <td>5.0</td>\n",
       "      <td>3.5</td>\n",
       "      <td>3432.0</td>\n",
       "      <td>893004.0</td>\n",
       "      <td>2001.0</td>\n",
       "      <td>13320.60</td>\n",
       "      <td>6059.0</td>\n",
       "      <td>0</td>\n",
       "      <td>1</td>\n",
       "      <td>0</td>\n",
       "    </tr>\n",
       "    <tr>\n",
       "      <th>1559262</th>\n",
       "      <td>3.0</td>\n",
       "      <td>3.0</td>\n",
       "      <td>1671.0</td>\n",
       "      <td>260933.0</td>\n",
       "      <td>1947.0</td>\n",
       "      <td>3187.08</td>\n",
       "      <td>6059.0</td>\n",
       "      <td>0</td>\n",
       "      <td>1</td>\n",
       "      <td>0</td>\n",
       "    </tr>\n",
       "    <tr>\n",
       "      <th>770438</th>\n",
       "      <td>3.0</td>\n",
       "      <td>2.0</td>\n",
       "      <td>1672.0</td>\n",
       "      <td>167176.0</td>\n",
       "      <td>1959.0</td>\n",
       "      <td>2093.45</td>\n",
       "      <td>6037.0</td>\n",
       "      <td>1</td>\n",
       "      <td>0</td>\n",
       "      <td>0</td>\n",
       "    </tr>\n",
       "    <tr>\n",
       "      <th>245576</th>\n",
       "      <td>4.0</td>\n",
       "      <td>2.0</td>\n",
       "      <td>2054.0</td>\n",
       "      <td>738566.0</td>\n",
       "      <td>2002.0</td>\n",
       "      <td>8507.10</td>\n",
       "      <td>6059.0</td>\n",
       "      <td>0</td>\n",
       "      <td>1</td>\n",
       "      <td>0</td>\n",
       "    </tr>\n",
       "    <tr>\n",
       "      <th>1695674</th>\n",
       "      <td>3.0</td>\n",
       "      <td>2.0</td>\n",
       "      <td>2132.0</td>\n",
       "      <td>114067.0</td>\n",
       "      <td>1958.0</td>\n",
       "      <td>3159.90</td>\n",
       "      <td>6037.0</td>\n",
       "      <td>1</td>\n",
       "      <td>0</td>\n",
       "      <td>0</td>\n",
       "    </tr>\n",
       "  </tbody>\n",
       "</table>\n",
       "</div>"
      ],
      "text/plain": [
       "         bedroom_count  bathroom_count  calc_sqr_feet  tax_value  yearbuilt  \\\n",
       "947232             5.0             3.5         3432.0   893004.0     2001.0   \n",
       "1559262            3.0             3.0         1671.0   260933.0     1947.0   \n",
       "770438             3.0             2.0         1672.0   167176.0     1959.0   \n",
       "245576             4.0             2.0         2054.0   738566.0     2002.0   \n",
       "1695674            3.0             2.0         2132.0   114067.0     1958.0   \n",
       "\n",
       "         taxamount  county_code  is_county_code_6037.0  is_county_code_6059.0  \\\n",
       "947232    13320.60       6059.0                      0                      1   \n",
       "1559262    3187.08       6059.0                      0                      1   \n",
       "770438     2093.45       6037.0                      1                      0   \n",
       "245576     8507.10       6059.0                      0                      1   \n",
       "1695674    3159.90       6037.0                      1                      0   \n",
       "\n",
       "         is_county_code_6111.0  \n",
       "947232                       0  \n",
       "1559262                      0  \n",
       "770438                       0  \n",
       "245576                       0  \n",
       "1695674                      0  "
      ]
     },
     "execution_count": 5,
     "metadata": {},
     "output_type": "execute_result"
    }
   ],
   "source": [
    "train.head()"
   ]
  },
  {
   "cell_type": "code",
   "execution_count": 6,
   "id": "aed8b119",
   "metadata": {},
   "outputs": [
    {
     "name": "stdout",
     "output_type": "stream",
     "text": [
      "Train Shape: (832786, 10)\n",
      "Validate Shape: (356909, 10)\n",
      "Test Shape: (297424, 10)\n",
      "\n"
     ]
    }
   ],
   "source": [
    "print(f\"\"\"Train Shape: {train.shape}\n",
    "Validate Shape: {validate.shape}\n",
    "Test Shape: {test.shape}\n",
    "\"\"\")"
   ]
  },
  {
   "cell_type": "markdown",
   "id": "06df4629",
   "metadata": {},
   "source": [
    "#### ***Be sure your data is prepared (no missing values, numeric datatypes) and split into samples.***"
   ]
  },
  {
   "cell_type": "code",
   "execution_count": 7,
   "id": "f32cda40",
   "metadata": {},
   "outputs": [],
   "source": [
    "df = train"
   ]
  },
  {
   "cell_type": "code",
   "execution_count": 8,
   "id": "dde1d563",
   "metadata": {},
   "outputs": [],
   "source": [
    "df = df.drop(columns = 'county_code')"
   ]
  },
  {
   "cell_type": "code",
   "execution_count": 9,
   "id": "0453f3d4",
   "metadata": {},
   "outputs": [
    {
     "data": {
      "text/html": [
       "<div>\n",
       "<style scoped>\n",
       "    .dataframe tbody tr th:only-of-type {\n",
       "        vertical-align: middle;\n",
       "    }\n",
       "\n",
       "    .dataframe tbody tr th {\n",
       "        vertical-align: top;\n",
       "    }\n",
       "\n",
       "    .dataframe thead th {\n",
       "        text-align: right;\n",
       "    }\n",
       "</style>\n",
       "<table border=\"1\" class=\"dataframe\">\n",
       "  <thead>\n",
       "    <tr style=\"text-align: right;\">\n",
       "      <th></th>\n",
       "      <th>bedroom_count</th>\n",
       "      <th>bathroom_count</th>\n",
       "      <th>calc_sqr_feet</th>\n",
       "      <th>tax_value</th>\n",
       "      <th>yearbuilt</th>\n",
       "      <th>taxamount</th>\n",
       "      <th>is_county_code_6037.0</th>\n",
       "      <th>is_county_code_6059.0</th>\n",
       "      <th>is_county_code_6111.0</th>\n",
       "    </tr>\n",
       "  </thead>\n",
       "  <tbody>\n",
       "    <tr>\n",
       "      <th>947232</th>\n",
       "      <td>5.0</td>\n",
       "      <td>3.5</td>\n",
       "      <td>3432.0</td>\n",
       "      <td>893004.0</td>\n",
       "      <td>2001.0</td>\n",
       "      <td>13320.60</td>\n",
       "      <td>0</td>\n",
       "      <td>1</td>\n",
       "      <td>0</td>\n",
       "    </tr>\n",
       "    <tr>\n",
       "      <th>1559262</th>\n",
       "      <td>3.0</td>\n",
       "      <td>3.0</td>\n",
       "      <td>1671.0</td>\n",
       "      <td>260933.0</td>\n",
       "      <td>1947.0</td>\n",
       "      <td>3187.08</td>\n",
       "      <td>0</td>\n",
       "      <td>1</td>\n",
       "      <td>0</td>\n",
       "    </tr>\n",
       "    <tr>\n",
       "      <th>770438</th>\n",
       "      <td>3.0</td>\n",
       "      <td>2.0</td>\n",
       "      <td>1672.0</td>\n",
       "      <td>167176.0</td>\n",
       "      <td>1959.0</td>\n",
       "      <td>2093.45</td>\n",
       "      <td>1</td>\n",
       "      <td>0</td>\n",
       "      <td>0</td>\n",
       "    </tr>\n",
       "    <tr>\n",
       "      <th>245576</th>\n",
       "      <td>4.0</td>\n",
       "      <td>2.0</td>\n",
       "      <td>2054.0</td>\n",
       "      <td>738566.0</td>\n",
       "      <td>2002.0</td>\n",
       "      <td>8507.10</td>\n",
       "      <td>0</td>\n",
       "      <td>1</td>\n",
       "      <td>0</td>\n",
       "    </tr>\n",
       "    <tr>\n",
       "      <th>1695674</th>\n",
       "      <td>3.0</td>\n",
       "      <td>2.0</td>\n",
       "      <td>2132.0</td>\n",
       "      <td>114067.0</td>\n",
       "      <td>1958.0</td>\n",
       "      <td>3159.90</td>\n",
       "      <td>1</td>\n",
       "      <td>0</td>\n",
       "      <td>0</td>\n",
       "    </tr>\n",
       "    <tr>\n",
       "      <th>...</th>\n",
       "      <td>...</td>\n",
       "      <td>...</td>\n",
       "      <td>...</td>\n",
       "      <td>...</td>\n",
       "      <td>...</td>\n",
       "      <td>...</td>\n",
       "      <td>...</td>\n",
       "      <td>...</td>\n",
       "      <td>...</td>\n",
       "    </tr>\n",
       "    <tr>\n",
       "      <th>1035662</th>\n",
       "      <td>5.0</td>\n",
       "      <td>3.0</td>\n",
       "      <td>2308.0</td>\n",
       "      <td>656000.0</td>\n",
       "      <td>1959.0</td>\n",
       "      <td>8042.45</td>\n",
       "      <td>1</td>\n",
       "      <td>0</td>\n",
       "      <td>0</td>\n",
       "    </tr>\n",
       "    <tr>\n",
       "      <th>463244</th>\n",
       "      <td>3.0</td>\n",
       "      <td>2.0</td>\n",
       "      <td>1700.0</td>\n",
       "      <td>209048.0</td>\n",
       "      <td>1956.0</td>\n",
       "      <td>2411.70</td>\n",
       "      <td>0</td>\n",
       "      <td>0</td>\n",
       "      <td>1</td>\n",
       "    </tr>\n",
       "    <tr>\n",
       "      <th>1766269</th>\n",
       "      <td>4.0</td>\n",
       "      <td>2.5</td>\n",
       "      <td>2282.0</td>\n",
       "      <td>527044.0</td>\n",
       "      <td>1979.0</td>\n",
       "      <td>6149.84</td>\n",
       "      <td>0</td>\n",
       "      <td>0</td>\n",
       "      <td>1</td>\n",
       "    </tr>\n",
       "    <tr>\n",
       "      <th>324934</th>\n",
       "      <td>3.0</td>\n",
       "      <td>2.0</td>\n",
       "      <td>1711.0</td>\n",
       "      <td>485663.0</td>\n",
       "      <td>1962.0</td>\n",
       "      <td>6029.84</td>\n",
       "      <td>1</td>\n",
       "      <td>0</td>\n",
       "      <td>0</td>\n",
       "    </tr>\n",
       "    <tr>\n",
       "      <th>1896373</th>\n",
       "      <td>4.0</td>\n",
       "      <td>3.0</td>\n",
       "      <td>2262.0</td>\n",
       "      <td>459230.0</td>\n",
       "      <td>1963.0</td>\n",
       "      <td>5811.84</td>\n",
       "      <td>1</td>\n",
       "      <td>0</td>\n",
       "      <td>0</td>\n",
       "    </tr>\n",
       "  </tbody>\n",
       "</table>\n",
       "<p>832786 rows × 9 columns</p>\n",
       "</div>"
      ],
      "text/plain": [
       "         bedroom_count  bathroom_count  calc_sqr_feet  tax_value  yearbuilt  \\\n",
       "947232             5.0             3.5         3432.0   893004.0     2001.0   \n",
       "1559262            3.0             3.0         1671.0   260933.0     1947.0   \n",
       "770438             3.0             2.0         1672.0   167176.0     1959.0   \n",
       "245576             4.0             2.0         2054.0   738566.0     2002.0   \n",
       "1695674            3.0             2.0         2132.0   114067.0     1958.0   \n",
       "...                ...             ...            ...        ...        ...   \n",
       "1035662            5.0             3.0         2308.0   656000.0     1959.0   \n",
       "463244             3.0             2.0         1700.0   209048.0     1956.0   \n",
       "1766269            4.0             2.5         2282.0   527044.0     1979.0   \n",
       "324934             3.0             2.0         1711.0   485663.0     1962.0   \n",
       "1896373            4.0             3.0         2262.0   459230.0     1963.0   \n",
       "\n",
       "         taxamount  is_county_code_6037.0  is_county_code_6059.0  \\\n",
       "947232    13320.60                      0                      1   \n",
       "1559262    3187.08                      0                      1   \n",
       "770438     2093.45                      1                      0   \n",
       "245576     8507.10                      0                      1   \n",
       "1695674    3159.90                      1                      0   \n",
       "...            ...                    ...                    ...   \n",
       "1035662    8042.45                      1                      0   \n",
       "463244     2411.70                      0                      0   \n",
       "1766269    6149.84                      0                      0   \n",
       "324934     6029.84                      1                      0   \n",
       "1896373    5811.84                      1                      0   \n",
       "\n",
       "         is_county_code_6111.0  \n",
       "947232                       0  \n",
       "1559262                      0  \n",
       "770438                       0  \n",
       "245576                       0  \n",
       "1695674                      0  \n",
       "...                        ...  \n",
       "1035662                      0  \n",
       "463244                       1  \n",
       "1766269                      1  \n",
       "324934                       0  \n",
       "1896373                      0  \n",
       "\n",
       "[832786 rows x 9 columns]"
      ]
     },
     "execution_count": 9,
     "metadata": {},
     "output_type": "execute_result"
    }
   ],
   "source": [
    "df"
   ]
  },
  {
   "cell_type": "code",
   "execution_count": 10,
   "id": "95363f45",
   "metadata": {},
   "outputs": [],
   "source": [
    "    target = 'tax_value'\n",
    "    drop_col = 'county_code'\n",
    "    \n",
    "    # split train into X (dataframe, drop target) & y (series, keep target only)\n",
    "    X_train = train_scaled.drop(columns=[target, drop_col])\n",
    "    y_train = train_scaled[target]\n",
    "    \n",
    "    # split validate into X (dataframe, drop target) & y (series, keep target only)\n",
    "    X_validate = validate_scaled.drop(columns=[target, drop_col])\n",
    "    y_validate = validate_scaled[target]\n",
    "    \n",
    "    # split test into X (dataframe, drop target) & y (series, keep target only)\n",
    "    X_test = test_scaled.drop(columns=[target, drop_col])\n",
    "    y_test = test_scaled[target]"
   ]
  },
  {
   "cell_type": "code",
   "execution_count": 11,
   "id": "c3456d34",
   "metadata": {},
   "outputs": [
    {
     "name": "stdout",
     "output_type": "stream",
     "text": [
      "Train Shape: (832786, 8)\n",
      "Validate Shape: (356909, 8)\n",
      "Test Shape: (297424, 8)\n",
      "\n"
     ]
    }
   ],
   "source": [
    "\n",
    "print(f\"\"\"Train Shape: {X_train.shape}\n",
    "Validate Shape: {X_validate.shape}\n",
    "Test Shape: {X_test.shape}\n",
    "\"\"\")"
   ]
  },
  {
   "cell_type": "markdown",
   "id": "01f8c99d",
   "metadata": {},
   "source": [
    "### Work through all of the steps outlined in the lesson, from setting the baseline to selected a model and evaluating the final model on your test data."
   ]
  },
  {
   "cell_type": "markdown",
   "id": "af31b2e1",
   "metadata": {},
   "source": [
    "### baseline"
   ]
  },
  {
   "cell_type": "code",
   "execution_count": 12,
   "id": "a86f1f1f",
   "metadata": {},
   "outputs": [],
   "source": [
    "y_train = pd.DataFrame(y_train)\n",
    "y_validate = pd.DataFrame(y_validate)"
   ]
  },
  {
   "cell_type": "code",
   "execution_count": 13,
   "id": "5c5dd9c3",
   "metadata": {},
   "outputs": [],
   "source": [
    "value_pred_mean = y_train.tax_value.mean()\n",
    "y_train['value_pred_mean'] = value_pred_mean\n",
    "y_validate['value_pred_mean'] = value_pred_mean"
   ]
  },
  {
   "cell_type": "code",
   "execution_count": 14,
   "id": "364e0f7c",
   "metadata": {},
   "outputs": [],
   "source": [
    "value_pred_median = y_train.tax_value.median()\n",
    "y_train['value_pred_median'] = value_pred_median\n",
    "y_validate['value_pred_median'] = value_pred_median"
   ]
  },
  {
   "cell_type": "code",
   "execution_count": 15,
   "id": "e559abc4",
   "metadata": {
    "scrolled": true
   },
   "outputs": [
    {
     "name": "stdout",
     "output_type": "stream",
     "text": [
      "RMSE using Mean\n",
      "Train/In-Sample: 398875.82 \n",
      "Validate/Out-of-Sample: 399708.06\n"
     ]
    }
   ],
   "source": [
    "rmse_train_mu = mean_squared_error(y_train.tax_value, y_train.value_pred_mean) **.5\n",
    "\n",
    "rmse_validate_mu = mean_squared_error(y_validate.tax_value, y_validate.value_pred_mean) **.5\n",
    "\n",
    "print(f\"\"\"RMSE using Mean\\nTrain/In-Sample: {round(rmse_train_mu, 2)} \n",
    "Validate/Out-of-Sample: {round(rmse_validate_mu, 2)}\"\"\")"
   ]
  },
  {
   "cell_type": "code",
   "execution_count": 16,
   "id": "fc56d104",
   "metadata": {},
   "outputs": [],
   "source": [
    "df = pd.DataFrame(data=[\n",
    "    {\n",
    "        \"model\": \"mean_baseline\",\n",
    "        \"RMSE_train\": rmse_train_mu,\n",
    "        \"RMSE_validate\": rmse_validate_mu,\n",
    "        \"R_validate\": explained_variance_score(y_validate.tax_value, y_validate.value_pred_mean),\n",
    "        \"model difference\": rmse_train_mu - rmse_validate_mu\n",
    "                                          \n",
    "    }\n",
    "])\n"
   ]
  },
  {
   "cell_type": "code",
   "execution_count": 17,
   "id": "16c22b78",
   "metadata": {},
   "outputs": [
    {
     "data": {
      "text/html": [
       "<div>\n",
       "<style scoped>\n",
       "    .dataframe tbody tr th:only-of-type {\n",
       "        vertical-align: middle;\n",
       "    }\n",
       "\n",
       "    .dataframe tbody tr th {\n",
       "        vertical-align: top;\n",
       "    }\n",
       "\n",
       "    .dataframe thead th {\n",
       "        text-align: right;\n",
       "    }\n",
       "</style>\n",
       "<table border=\"1\" class=\"dataframe\">\n",
       "  <thead>\n",
       "    <tr style=\"text-align: right;\">\n",
       "      <th></th>\n",
       "      <th>model</th>\n",
       "      <th>RMSE_train</th>\n",
       "      <th>RMSE_validate</th>\n",
       "      <th>R_validate</th>\n",
       "      <th>model difference</th>\n",
       "    </tr>\n",
       "  </thead>\n",
       "  <tbody>\n",
       "    <tr>\n",
       "      <th>0</th>\n",
       "      <td>mean_baseline</td>\n",
       "      <td>398875.822679</td>\n",
       "      <td>399708.062705</td>\n",
       "      <td>0.0</td>\n",
       "      <td>-832.240026</td>\n",
       "    </tr>\n",
       "  </tbody>\n",
       "</table>\n",
       "</div>"
      ],
      "text/plain": [
       "           model     RMSE_train  RMSE_validate  R_validate  model difference\n",
       "0  mean_baseline  398875.822679  399708.062705         0.0       -832.240026"
      ]
     },
     "execution_count": 17,
     "metadata": {},
     "output_type": "execute_result"
    }
   ],
   "source": [
    "df"
   ]
  },
  {
   "cell_type": "markdown",
   "id": "90a71e42",
   "metadata": {},
   "source": [
    "### LinearRegression (OLS)"
   ]
  },
  {
   "cell_type": "code",
   "execution_count": 18,
   "id": "c128a23f",
   "metadata": {},
   "outputs": [
    {
     "name": "stdout",
     "output_type": "stream",
     "text": [
      "RMSE for OLS\n",
      "_____________________\n",
      "Training/In-Sample: 69368.59396176499, \n",
      "Validation/Out-of-Sample:  71650.41999597834\n",
      "Difference:  2281.826034213358\n"
     ]
    }
   ],
   "source": [
    "# MAKE THE THING: create the model object\n",
    "OLSmodel = LinearRegression()\n",
    "\n",
    "#1. FIT THE THING: fit the model to training data\n",
    "\n",
    "OLSmodel.fit(X_train, y_train.tax_value)\n",
    "#2. USE THE THING: make a prediction\n",
    "y_train['value_pred_ols'] = OLSmodel.predict(X_train)\n",
    "\n",
    "#3. Evaluate: RMSE\n",
    "rmse_train = mean_squared_error(y_train.tax_value, y_train.value_pred_ols) **.5\n",
    "\n",
    "#4. REPEAT STEPS 2-3\n",
    "\n",
    "# predict validate\n",
    "y_validate['value_pred_ols'] = OLSmodel.predict(X_validate)\n",
    "\n",
    "# evaluate: RMSE\n",
    "rmse_validate = mean_squared_error(y_validate.tax_value, y_validate.value_pred_ols) ** .5\n",
    "\n",
    "print(f\"\"\"RMSE for OLS\n",
    "_____________________\n",
    "Training/In-Sample: {rmse_train}, \n",
    "Validation/Out-of-Sample:  {rmse_validate}\n",
    "Difference:  {rmse_validate - rmse_train}\"\"\")"
   ]
  },
  {
   "cell_type": "code",
   "execution_count": 19,
   "id": "e04f1c0f",
   "metadata": {},
   "outputs": [],
   "source": [
    "df = df.append({\n",
    "    \"model\": \"OLS\",\n",
    "    \"RMSE_train\": rmse_train,\n",
    "    \"RMSE_validate\": rmse_validate,\n",
    "    \"R_validate\": explained_variance_score(y_validate.tax_value, y_validate.value_pred_ols),\n",
    "    \"model difference\": rmse_train - rmse_validate\n",
    "                                          \n",
    "}, ignore_index=True)\n"
   ]
  },
  {
   "cell_type": "code",
   "execution_count": 20,
   "id": "993dfcfa",
   "metadata": {},
   "outputs": [
    {
     "data": {
      "text/html": [
       "<div>\n",
       "<style scoped>\n",
       "    .dataframe tbody tr th:only-of-type {\n",
       "        vertical-align: middle;\n",
       "    }\n",
       "\n",
       "    .dataframe tbody tr th {\n",
       "        vertical-align: top;\n",
       "    }\n",
       "\n",
       "    .dataframe thead th {\n",
       "        text-align: right;\n",
       "    }\n",
       "</style>\n",
       "<table border=\"1\" class=\"dataframe\">\n",
       "  <thead>\n",
       "    <tr style=\"text-align: right;\">\n",
       "      <th></th>\n",
       "      <th>model</th>\n",
       "      <th>RMSE_train</th>\n",
       "      <th>RMSE_validate</th>\n",
       "      <th>R_validate</th>\n",
       "      <th>model difference</th>\n",
       "    </tr>\n",
       "  </thead>\n",
       "  <tbody>\n",
       "    <tr>\n",
       "      <th>0</th>\n",
       "      <td>mean_baseline</td>\n",
       "      <td>398875.822679</td>\n",
       "      <td>399708.062705</td>\n",
       "      <td>0.000000</td>\n",
       "      <td>-832.240026</td>\n",
       "    </tr>\n",
       "    <tr>\n",
       "      <th>1</th>\n",
       "      <td>OLS</td>\n",
       "      <td>69368.593962</td>\n",
       "      <td>71650.419996</td>\n",
       "      <td>0.967867</td>\n",
       "      <td>-2281.826034</td>\n",
       "    </tr>\n",
       "  </tbody>\n",
       "</table>\n",
       "</div>"
      ],
      "text/plain": [
       "           model     RMSE_train  RMSE_validate  R_validate  model difference\n",
       "0  mean_baseline  398875.822679  399708.062705    0.000000       -832.240026\n",
       "1            OLS   69368.593962   71650.419996    0.967867      -2281.826034"
      ]
     },
     "execution_count": 20,
     "metadata": {},
     "output_type": "execute_result"
    }
   ],
   "source": [
    "df"
   ]
  },
  {
   "cell_type": "markdown",
   "id": "94bb9fd2",
   "metadata": {},
   "source": [
    "### LassoLars"
   ]
  },
  {
   "cell_type": "code",
   "execution_count": 21,
   "id": "f3a3471f",
   "metadata": {},
   "outputs": [
    {
     "name": "stdout",
     "output_type": "stream",
     "text": [
      "RMSE for Lars\n",
      "_____________________\n",
      "Training/In-Sample: 69368.16328658025, \n",
      "Validation/Out-of-Sample:  71650.28218975001\n",
      "Difference:  2282.1189031697577\n"
     ]
    }
   ],
   "source": [
    "# MAKE THE THING: create the model object\n",
    "lars = LassoLars(alpha = 0.01)\n",
    "\n",
    "#1. FIT THE THING: fit the model to training data\n",
    "\n",
    "lars.fit(X_train, y_train.tax_value)\n",
    "#2. USE THE THING: make a prediction\n",
    "y_train['value_pred_lars'] = lars.predict(X_train)\n",
    "\n",
    "#3. Evaluate: RMSE\n",
    "rmse_train = mean_squared_error(y_train.tax_value, y_train.value_pred_lars) **.5\n",
    "\n",
    "#4. REPEAT STEPS 2-3\n",
    "\n",
    "# predict validate\n",
    "y_validate['value_pred_lars'] = lars.predict(X_validate)\n",
    "\n",
    "# evaluate: RMSE\n",
    "rmse_validate = mean_squared_error(y_validate.tax_value, y_validate.value_pred_lars) ** .5\n",
    "\n",
    "print(f\"\"\"RMSE for Lars\n",
    "_____________________\n",
    "Training/In-Sample: {rmse_train}, \n",
    "Validation/Out-of-Sample:  {rmse_validate}\n",
    "Difference:  {rmse_validate - rmse_train}\"\"\")"
   ]
  },
  {
   "cell_type": "code",
   "execution_count": 22,
   "id": "3827ff98",
   "metadata": {},
   "outputs": [],
   "source": [
    "df = df.append({\n",
    "    \"model\": \"LassoLars\",\n",
    "    \"RMSE_train\": rmse_train,\n",
    "    \"RMSE_validate\": rmse_validate,\n",
    "    \"R_validate\": explained_variance_score(y_validate.tax_value, y_validate.value_pred_lars),\n",
    "    \"model difference\": rmse_train - rmse_validate\n",
    "                                          \n",
    "}, ignore_index=True)\n"
   ]
  },
  {
   "cell_type": "code",
   "execution_count": 23,
   "id": "b007bb8d",
   "metadata": {},
   "outputs": [
    {
     "data": {
      "text/html": [
       "<div>\n",
       "<style scoped>\n",
       "    .dataframe tbody tr th:only-of-type {\n",
       "        vertical-align: middle;\n",
       "    }\n",
       "\n",
       "    .dataframe tbody tr th {\n",
       "        vertical-align: top;\n",
       "    }\n",
       "\n",
       "    .dataframe thead th {\n",
       "        text-align: right;\n",
       "    }\n",
       "</style>\n",
       "<table border=\"1\" class=\"dataframe\">\n",
       "  <thead>\n",
       "    <tr style=\"text-align: right;\">\n",
       "      <th></th>\n",
       "      <th>model</th>\n",
       "      <th>RMSE_train</th>\n",
       "      <th>RMSE_validate</th>\n",
       "      <th>R_validate</th>\n",
       "      <th>model difference</th>\n",
       "    </tr>\n",
       "  </thead>\n",
       "  <tbody>\n",
       "    <tr>\n",
       "      <th>0</th>\n",
       "      <td>mean_baseline</td>\n",
       "      <td>398875.822679</td>\n",
       "      <td>399708.062705</td>\n",
       "      <td>0.000000</td>\n",
       "      <td>-832.240026</td>\n",
       "    </tr>\n",
       "    <tr>\n",
       "      <th>1</th>\n",
       "      <td>OLS</td>\n",
       "      <td>69368.593962</td>\n",
       "      <td>71650.419996</td>\n",
       "      <td>0.967867</td>\n",
       "      <td>-2281.826034</td>\n",
       "    </tr>\n",
       "    <tr>\n",
       "      <th>2</th>\n",
       "      <td>LassoLars</td>\n",
       "      <td>69368.163287</td>\n",
       "      <td>71650.282190</td>\n",
       "      <td>0.967867</td>\n",
       "      <td>-2282.118903</td>\n",
       "    </tr>\n",
       "  </tbody>\n",
       "</table>\n",
       "</div>"
      ],
      "text/plain": [
       "           model     RMSE_train  RMSE_validate  R_validate  model difference\n",
       "0  mean_baseline  398875.822679  399708.062705    0.000000       -832.240026\n",
       "1            OLS   69368.593962   71650.419996    0.967867      -2281.826034\n",
       "2      LassoLars   69368.163287   71650.282190    0.967867      -2282.118903"
      ]
     },
     "execution_count": 23,
     "metadata": {},
     "output_type": "execute_result"
    }
   ],
   "source": [
    "df"
   ]
  },
  {
   "cell_type": "markdown",
   "id": "d57e5c6d",
   "metadata": {},
   "source": [
    "### TweedieRegressor (GLM:Generalized Linear Model)"
   ]
  },
  {
   "cell_type": "code",
   "execution_count": 24,
   "id": "cc075c1c",
   "metadata": {},
   "outputs": [
    {
     "name": "stdout",
     "output_type": "stream",
     "text": [
      "RMSE for GLM\n",
      "_____________________\n",
      "Training/In-Sample: 284534.7151956699, \n",
      "Validation/Out-of-Sample:  273541.9514513485\n",
      "Difference:  -10992.763744321419\n"
     ]
    }
   ],
   "source": [
    "# MAKE THE THING: create the model object\n",
    "glm = TweedieRegressor(power = .5, alpha = 0.2)\n",
    "\n",
    "glm.fit(X_train, y_train.tax_value)\n",
    "#2. USE THE THING: make a prediction\n",
    "y_train['value_pred_glm'] = glm.predict(X_train)\n",
    "\n",
    "#3. Evaluate: RMSE\n",
    "rmse_train = mean_squared_error(y_train.tax_value, y_train.value_pred_glm) **.5\n",
    "\n",
    "#4. REPEAT STEPS 2-3\n",
    "\n",
    "# predict validate\n",
    "y_validate['value_pred_glm'] = glm.predict(X_validate)\n",
    "\n",
    "# evaluate: RMSE\n",
    "rmse_validate = mean_squared_error(y_validate.tax_value, y_validate.value_pred_glm) ** .5\n",
    "\n",
    "print(f\"\"\"RMSE for GLM\n",
    "_____________________\n",
    "Training/In-Sample: {rmse_train}, \n",
    "Validation/Out-of-Sample:  {rmse_validate}\n",
    "Difference:  {rmse_validate - rmse_train}\"\"\")"
   ]
  },
  {
   "cell_type": "code",
   "execution_count": 25,
   "id": "2b0faa73",
   "metadata": {},
   "outputs": [],
   "source": [
    "df = df.append({\n",
    "    \"model\": \"GLM\",\n",
    "    \"RMSE_train\": rmse_train,\n",
    "    \"RMSE_validate\": rmse_validate,\n",
    "    \"R_validate\": explained_variance_score(y_validate.tax_value, y_validate.value_pred_glm),\n",
    "    \"model difference\": rmse_train - rmse_validate\n",
    "                                          \n",
    "}, ignore_index=True)"
   ]
  },
  {
   "cell_type": "code",
   "execution_count": 26,
   "id": "06907594",
   "metadata": {},
   "outputs": [
    {
     "data": {
      "text/html": [
       "<div>\n",
       "<style scoped>\n",
       "    .dataframe tbody tr th:only-of-type {\n",
       "        vertical-align: middle;\n",
       "    }\n",
       "\n",
       "    .dataframe tbody tr th {\n",
       "        vertical-align: top;\n",
       "    }\n",
       "\n",
       "    .dataframe thead th {\n",
       "        text-align: right;\n",
       "    }\n",
       "</style>\n",
       "<table border=\"1\" class=\"dataframe\">\n",
       "  <thead>\n",
       "    <tr style=\"text-align: right;\">\n",
       "      <th></th>\n",
       "      <th>model</th>\n",
       "      <th>RMSE_train</th>\n",
       "      <th>RMSE_validate</th>\n",
       "      <th>R_validate</th>\n",
       "      <th>model difference</th>\n",
       "    </tr>\n",
       "  </thead>\n",
       "  <tbody>\n",
       "    <tr>\n",
       "      <th>0</th>\n",
       "      <td>mean_baseline</td>\n",
       "      <td>398875.822679</td>\n",
       "      <td>399708.062705</td>\n",
       "      <td>0.000000</td>\n",
       "      <td>-832.240026</td>\n",
       "    </tr>\n",
       "    <tr>\n",
       "      <th>1</th>\n",
       "      <td>OLS</td>\n",
       "      <td>69368.593962</td>\n",
       "      <td>71650.419996</td>\n",
       "      <td>0.967867</td>\n",
       "      <td>-2281.826034</td>\n",
       "    </tr>\n",
       "    <tr>\n",
       "      <th>2</th>\n",
       "      <td>LassoLars</td>\n",
       "      <td>69368.163287</td>\n",
       "      <td>71650.282190</td>\n",
       "      <td>0.967867</td>\n",
       "      <td>-2282.118903</td>\n",
       "    </tr>\n",
       "    <tr>\n",
       "      <th>3</th>\n",
       "      <td>GLM</td>\n",
       "      <td>284534.715196</td>\n",
       "      <td>273541.951451</td>\n",
       "      <td>0.532221</td>\n",
       "      <td>10992.763744</td>\n",
       "    </tr>\n",
       "  </tbody>\n",
       "</table>\n",
       "</div>"
      ],
      "text/plain": [
       "           model     RMSE_train  RMSE_validate  R_validate  model difference\n",
       "0  mean_baseline  398875.822679  399708.062705    0.000000       -832.240026\n",
       "1            OLS   69368.593962   71650.419996    0.967867      -2281.826034\n",
       "2      LassoLars   69368.163287   71650.282190    0.967867      -2282.118903\n",
       "3            GLM  284534.715196  273541.951451    0.532221      10992.763744"
      ]
     },
     "execution_count": 26,
     "metadata": {},
     "output_type": "execute_result"
    }
   ],
   "source": [
    "df"
   ]
  },
  {
   "cell_type": "markdown",
   "id": "a10a14f9",
   "metadata": {},
   "source": [
    "### Polynomial Regression"
   ]
  },
  {
   "cell_type": "code",
   "execution_count": 27,
   "id": "84cef726",
   "metadata": {},
   "outputs": [
    {
     "name": "stdout",
     "output_type": "stream",
     "text": [
      "RMSE for Polynomial Regression\n",
      "_____________________\n",
      "Training/In-Sample: 67036.76211782233,\n",
      "Validation/Out-of-Sample: 69651.3997970986\n",
      "Difference: 2614.6376792762603\n"
     ]
    }
   ],
   "source": [
    "# Create polynomial features\n",
    "poly = PolynomialFeatures(degree=2, include_bias=False)\n",
    "X_train_poly = poly.fit_transform(X_train)\n",
    "X_validate_poly = poly.transform(X_validate)\n",
    "\n",
    "# Fit the polynomial regression model\n",
    "poly_reg = LinearRegression()\n",
    "poly_reg.fit(X_train_poly, y_train.tax_value)\n",
    "\n",
    "# Make predictions on training set\n",
    "y_train['value_pred_poly'] = poly_reg.predict(X_train_poly)\n",
    "rmse_train = mean_squared_error(y_train.tax_value, y_train.value_pred_poly) ** 0.5\n",
    "\n",
    "# Make predictions on validation set\n",
    "y_validate['value_pred_poly'] = poly_reg.predict(X_validate_poly)\n",
    "rmse_validate = mean_squared_error(y_validate.tax_value, y_validate.value_pred_poly) ** 0.5\n",
    "\n",
    "# Print the RMSE results\n",
    "print(f\"\"\"RMSE for Polynomial Regression\n",
    "_____________________\n",
    "Training/In-Sample: {rmse_train},\n",
    "Validation/Out-of-Sample: {rmse_validate}\n",
    "Difference: {rmse_validate - rmse_train}\"\"\")\n"
   ]
  },
  {
   "cell_type": "code",
   "execution_count": 28,
   "id": "40cdd3cd",
   "metadata": {},
   "outputs": [],
   "source": [
    "df = df.append({\n",
    "    \"model\": \"POLY\",\n",
    "    \"RMSE_train\": rmse_train,\n",
    "    \"RMSE_validate\": rmse_validate,\n",
    "    \"R_validate\": explained_variance_score(y_validate.tax_value, y_validate.value_pred_poly),\n",
    "    \"model difference\": rmse_train - rmse_validate\n",
    "                                          \n",
    "}, ignore_index=True)"
   ]
  },
  {
   "cell_type": "code",
   "execution_count": 29,
   "id": "fd909ebb",
   "metadata": {
    "scrolled": false
   },
   "outputs": [
    {
     "data": {
      "text/html": [
       "<div>\n",
       "<style scoped>\n",
       "    .dataframe tbody tr th:only-of-type {\n",
       "        vertical-align: middle;\n",
       "    }\n",
       "\n",
       "    .dataframe tbody tr th {\n",
       "        vertical-align: top;\n",
       "    }\n",
       "\n",
       "    .dataframe thead th {\n",
       "        text-align: right;\n",
       "    }\n",
       "</style>\n",
       "<table border=\"1\" class=\"dataframe\">\n",
       "  <thead>\n",
       "    <tr style=\"text-align: right;\">\n",
       "      <th></th>\n",
       "      <th>model</th>\n",
       "      <th>RMSE_train</th>\n",
       "      <th>RMSE_validate</th>\n",
       "      <th>R_validate</th>\n",
       "      <th>model difference</th>\n",
       "    </tr>\n",
       "  </thead>\n",
       "  <tbody>\n",
       "    <tr>\n",
       "      <th>0</th>\n",
       "      <td>mean_baseline</td>\n",
       "      <td>398875.822679</td>\n",
       "      <td>399708.062705</td>\n",
       "      <td>0.000000</td>\n",
       "      <td>-832.240026</td>\n",
       "    </tr>\n",
       "    <tr>\n",
       "      <th>1</th>\n",
       "      <td>OLS</td>\n",
       "      <td>69368.593962</td>\n",
       "      <td>71650.419996</td>\n",
       "      <td>0.967867</td>\n",
       "      <td>-2281.826034</td>\n",
       "    </tr>\n",
       "    <tr>\n",
       "      <th>2</th>\n",
       "      <td>LassoLars</td>\n",
       "      <td>69368.163287</td>\n",
       "      <td>71650.282190</td>\n",
       "      <td>0.967867</td>\n",
       "      <td>-2282.118903</td>\n",
       "    </tr>\n",
       "    <tr>\n",
       "      <th>3</th>\n",
       "      <td>GLM</td>\n",
       "      <td>284534.715196</td>\n",
       "      <td>273541.951451</td>\n",
       "      <td>0.532221</td>\n",
       "      <td>10992.763744</td>\n",
       "    </tr>\n",
       "    <tr>\n",
       "      <th>4</th>\n",
       "      <td>POLY</td>\n",
       "      <td>67036.762118</td>\n",
       "      <td>69651.399797</td>\n",
       "      <td>0.969635</td>\n",
       "      <td>-2614.637679</td>\n",
       "    </tr>\n",
       "  </tbody>\n",
       "</table>\n",
       "</div>"
      ],
      "text/plain": [
       "           model     RMSE_train  RMSE_validate  R_validate  model difference\n",
       "0  mean_baseline  398875.822679  399708.062705    0.000000       -832.240026\n",
       "1            OLS   69368.593962   71650.419996    0.967867      -2281.826034\n",
       "2      LassoLars   69368.163287   71650.282190    0.967867      -2282.118903\n",
       "3            GLM  284534.715196  273541.951451    0.532221      10992.763744\n",
       "4           POLY   67036.762118   69651.399797    0.969635      -2614.637679"
      ]
     },
     "execution_count": 29,
     "metadata": {},
     "output_type": "execute_result"
    }
   ],
   "source": [
    "df"
   ]
  },
  {
   "cell_type": "code",
   "execution_count": 46,
   "id": "c43a5696",
   "metadata": {},
   "outputs": [
    {
     "data": {
      "image/png": "[encoded data removed]",
      "text/plain": [
       "<Figure size 1300x1200 with 1 Axes>"
      ]
     },
     "metadata": {},
     "output_type": "display_data"
    }
   ],
   "source": [
    "\n",
    "plt.figure(figsize= (13,12))\n",
    "models = ['OLS', 'LassoLars', 'GLM','POLY']\n",
    "train_scores = [69368.593962, 69368.163287,284534.715196, 67036.762118]\n",
    "valid_scores = [71650.419996, 71650.282190,273541.951451,69651.399797]\n",
    "\n",
    "plt.plot(models, train_scores, marker='o', label='Train Scores')\n",
    "plt.plot(models, valid_scores, marker='o', label='Validation Scores')\n",
    "\n",
    "plt.xlabel('Models')\n",
    "plt.ylabel('Scoring Metric')\n",
    "plt.title('Train vs. Validation Scoring')\n",
    "\n",
    "plt.legend()\n",
    "\n",
    "plt.show()\n"
   ]
  },
  {
   "cell_type": "markdown",
   "id": "ac7fa9df",
   "metadata": {},
   "source": [
    "### Picking POLY as best performing model and running test on the model (due to best model difference and beating baseline test/val scoring"
   ]
  },
  {
   "cell_type": "code",
   "execution_count": 38,
   "id": "3a014054",
   "metadata": {},
   "outputs": [
    {
     "name": "stdout",
     "output_type": "stream",
     "text": [
      "RMSE on Test Set: 81837.50928677643\n"
     ]
    }
   ],
   "source": [
    "X_test_poly = poly.transform(X_test)\n",
    "\n",
    "y_test_pred = poly_reg.predict(X_test_poly)\n",
    "\n",
    "rmse_test = mean_squared_error(y_test, y_test_pred) ** 0.5\n",
    "\n",
    "print(f\"RMSE on Test Set: {rmse_test}\")\n",
    "\n"
   ]
  },
  {
   "cell_type": "markdown",
   "id": "2d9cbde2",
   "metadata": {},
   "source": [
    "### RMSE on POLY Test Set is 81837.51 which beats baselines RMSE train and RMSE validate by approximately 317,038 less in error"
   ]
  }
 ],
 "metadata": {
  "kernelspec": {
   "display_name": "Python 3 (ipykernel)",
   "language": "python",
   "name": "python3"
  },
  "language_info": {
   "codemirror_mode": {
    "name": "ipython",
    "version": 3
   },
   "file_extension": ".py",
   "mimetype": "text/x-python",
   "name": "python",
   "nbconvert_exporter": "python",
   "pygments_lexer": "ipython3",
   "version": "3.10.9"
  }
 },
 "nbformat": 4,
 "nbformat_minor": 5
}
